{
 "cells": [
  {
   "cell_type": "code",
   "execution_count": 1,
   "id": "6880db69",
   "metadata": {},
   "outputs": [],
   "source": [
    "import pandas as pd\n",
    "import numpy as np\n",
    "import matplotlib.pyplot as plt\n",
    "import seaborn as sns \n",
    "from sklearn.metrics import confusion_matrix"
   ]
  },
  {
   "cell_type": "code",
   "execution_count": 2,
   "id": "7a9cfb0d",
   "metadata": {},
   "outputs": [
    {
     "name": "stdout",
     "output_type": "stream",
     "text": [
      "       response                                             review\n",
      "0             2  A wonderful little production. <br /><br />The...\n",
      "1             1  Basically there's a family where a little boy ...\n",
      "2             1  This show was an amazing, fresh & innovative i...\n",
      "3             1  So im not a big fan of Boll's work but then ag...\n",
      "4             1  Kind of drawn in by the erotic scenes, only to...\n",
      "...         ...                                                ...\n",
      "14906         1  Robert Colomb has two full-time jobs. He's kno...\n",
      "14907         1  This is your typical junk comedy.<br /><br />T...\n",
      "14908         2  I thought this movie did a down right good job...\n",
      "14909         1  Bad plot, bad dialogue, bad acting, idiotic di...\n",
      "14910         1  No one expects the Star Trek movies to be high...\n",
      "\n",
      "[14911 rows x 2 columns]\n",
      "                                                  review\n",
      "0      Petter Mattei's \"Love in the Time of Money\" is...\n",
      "1      Phil the Alien is one of those quirky films wh...\n",
      "2      An awful film! It must have been up against so...\n",
      "3      First of all, let's get a few things straight ...\n",
      "4      Taut and organically gripping, Edward Dmytryk'...\n",
      "...                                                  ...\n",
      "35084  This movie is a disgrace to the Major League F...\n",
      "35085  A remake of Alejandro Amenabar's Abre los Ojos...\n",
      "35086  Les Visiteurs, the first movie about the medie...\n",
      "35087  John Garfield plays a Marine who is blinded by...\n",
      "35088  I'm going to have to disagree with the previou...\n",
      "\n",
      "[35089 rows x 1 columns]\n"
     ]
    }
   ],
   "source": [
    "train_df = pd.read_csv(\"train.csv\")\n",
    "test_df = pd.read_csv(\"test.csv\")\n",
    "weights = pd.read_csv(\"weights-matrix.csv\")\n",
    "print(train_df)\n",
    "print(test_df)"
   ]
  },
  {
   "cell_type": "code",
   "execution_count": 3,
   "id": "f41fb04b",
   "metadata": {},
   "outputs": [
    {
     "data": {
      "text/plain": [
       "<AxesSubplot:>"
      ]
     },
     "execution_count": 3,
     "metadata": {},
     "output_type": "execute_result"
    },
    {
     "data": {
      "image/png": "[encoded data removed]",
      "text/plain": [
       "<Figure size 432x288 with 1 Axes>"
      ]
     },
     "metadata": {
      "needs_background": "light"
     },
     "output_type": "display_data"
    }
   ],
   "source": [
    "train_df[\"response\"].value_counts().plot(kind=\"bar\") #Dataset is half negative and half positive"
   ]
  },
  {
   "cell_type": "code",
   "execution_count": 4,
   "id": "8e6f5df3",
   "metadata": {},
   "outputs": [],
   "source": [
    "from sklearn.model_selection import train_test_split\n",
    "train_data, test_data = train_test_split(train_df, test_size=0.2, random_state=31)"
   ]
  },
  {
   "cell_type": "code",
   "execution_count": null,
   "id": "f1e287db",
   "metadata": {},
   "outputs": [],
   "source": []
  },
  {
   "cell_type": "code",
   "execution_count": 5,
   "id": "9cf5ee07",
   "metadata": {},
   "outputs": [],
   "source": [
    "from sklearn.feature_extraction.text import CountVectorizer\n",
    "\n",
    "vectorizer = CountVectorizer(max_features = 5000, strip_accents = 'ascii', stop_words = 'english')\n",
    "\n",
    "X_train = vectorizer.fit_transform(train_data['review'])\n",
    "X_test = vectorizer.transform(test_data['review'])\n",
    "y_train = train_data['response']\n",
    "y_test = test_data['response']"
   ]
  },
  {
   "cell_type": "code",
   "execution_count": 6,
   "id": "286bab93",
   "metadata": {},
   "outputs": [
    {
     "name": "stderr",
     "output_type": "stream",
     "text": [
      "C:\\Users\\bumin\\anaconda3\\lib\\site-packages\\sklearn\\linear_model\\_logistic.py:458: ConvergenceWarning: lbfgs failed to converge (status=1):\n",
      "STOP: TOTAL NO. of ITERATIONS REACHED LIMIT.\n",
      "\n",
      "Increase the number of iterations (max_iter) or scale the data as shown in:\n",
      "    https://scikit-learn.org/stable/modules/preprocessing.html\n",
      "Please also refer to the documentation for alternative solver options:\n",
      "    https://scikit-learn.org/stable/modules/linear_model.html#logistic-regression\n",
      "  n_iter_i = _check_optimize_result(\n"
     ]
    },
    {
     "name": "stdout",
     "output_type": "stream",
     "text": [
      "Logistic Regression Accuracy: 0.837076768354006\n",
      "Naive Bayes Accuracy: 0.8437814280925243\n",
      "Random Forest Accuracy: 0.845122360040228\n",
      "Logistic Regression Confusion Matrix:\n",
      "[[1258  253]\n",
      " [ 233 1239]]\n",
      "\n",
      "Naive Bayes Confusion Matrix:\n",
      "[[1287  224]\n",
      " [ 242 1230]]\n",
      "\n",
      "Random Forest Confusion Matrix:\n",
      "[[1295  216]\n",
      " [ 246 1226]]\n"
     ]
    }
   ],
   "source": [
    "from sklearn.linear_model import LogisticRegression\n",
    "from sklearn.naive_bayes import MultinomialNB\n",
    "from sklearn.ensemble import RandomForestClassifier\n",
    "\n",
    "# Initialize the classifiers\n",
    "lr = LogisticRegression()\n",
    "nb = MultinomialNB()\n",
    "rf = RandomForestClassifier()\n",
    "\n",
    "# Train the classifiers on the training data\n",
    "lr.fit(X_train, y_train)\n",
    "nb.fit(X_train, y_train)\n",
    "rf.fit(X_train, y_train)\n",
    "\n",
    "# Make predictions on the test set\n",
    "lr_pred = lr.predict(X_test)\n",
    "nb_pred = nb.predict(X_test)\n",
    "rf_pred = rf.predict(X_test)\n",
    "\n",
    "# Test the classifiers on the test data\n",
    "lr_acc = lr.score(X_test, y_test)\n",
    "nb_acc = nb.score(X_test, y_test)\n",
    "rf_acc = rf.score(X_test, y_test)\n",
    "\n",
    "print(f\"Logistic Regression Accuracy: {lr_acc}\")\n",
    "print(f\"Naive Bayes Accuracy: {nb_acc}\")\n",
    "print(f\"Random Forest Accuracy: {rf_acc}\")\n",
    "\n",
    "# Generate the confusion matrices\n",
    "lr_cm = confusion_matrix(y_test, lr_pred)\n",
    "nb_cm = confusion_matrix(y_test, nb_pred)\n",
    "rf_cm = confusion_matrix(y_test, rf_pred)\n",
    "\n",
    "class_labels = [\"positive\",\"negative\"] # meant to represent 2 and 1\n",
    "# Print the confusion matrices\n",
    "print(\"Logistic Regression Confusion Matrix:\")\n",
    "print(lr_cm)\n",
    "#plot_confusion_matrix(lr_cm, class_labels) \n",
    "\n",
    "print(\"\\nNaive Bayes Confusion Matrix:\")\n",
    "print(nb_cm)\n",
    "#plot_confusion_matrix(nb_cm, class_labels) \n",
    "\n",
    "print(\"\\nRandom Forest Confusion Matrix:\")\n",
    "print(rf_cm)\n",
    "#plot_confusion_matrix(rf_cm, class_labels) "
   ]
  },
  {
   "cell_type": "code",
   "execution_count": 7,
   "id": "28bf9f5a",
   "metadata": {},
   "outputs": [
    {
     "name": "stdout",
     "output_type": "stream",
     "text": [
      "[2 1 1 ... 1 2 1]\n"
     ]
    }
   ],
   "source": [
    "test_df = vectorizer.transform(test_df['review'])\n",
    "\n",
    "y_logistic_regression_pred = lr.predict(test_df)\n",
    "\n",
    "print(y_logistic_regression_pred)\n",
    "\n",
    "export_pred = pd.DataFrame(y_logistic_regression_pred, columns = ['response'])\n",
    "\n",
    "# The header and the index are removed as this is required by the platform\n",
    "export_pred.to_csv('logistic_regression.txt', index = False, header = False)"
   ]
  },
  {
   "cell_type": "code",
   "execution_count": null,
   "id": "6580c869",
   "metadata": {},
   "outputs": [],
   "source": []
  },
  {
   "cell_type": "code",
   "execution_count": null,
   "id": "100901f0",
   "metadata": {},
   "outputs": [],
   "source": []
  },
  {
   "cell_type": "code",
   "execution_count": null,
   "id": "006ff039",
   "metadata": {},
   "outputs": [],
   "source": []
  },
  {
   "cell_type": "code",
   "execution_count": null,
   "id": "30877abf",
   "metadata": {},
   "outputs": [],
   "source": []
  },
  {
   "cell_type": "code",
   "execution_count": null,
   "id": "820e2698",
   "metadata": {},
   "outputs": [],
   "source": []
  }
 ],
 "metadata": {
  "kernelspec": {
   "display_name": "Python 3 (ipykernel)",
   "language": "python",
   "name": "python3"
  },
  "language_info": {
   "codemirror_mode": {
    "name": "ipython",
    "version": 3
   },
   "file_extension": ".py",
   "mimetype": "text/x-python",
   "name": "python",
   "nbconvert_exporter": "python",
   "pygments_lexer": "ipython3",
   "version": "3.9.7"
  }
 },
 "nbformat": 4,
 "nbformat_minor": 5
}
