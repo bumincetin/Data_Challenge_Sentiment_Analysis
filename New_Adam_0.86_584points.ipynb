{
 "cells": [
  {
   "cell_type": "code",
   "execution_count": 1,
   "id": "91ac547c",
   "metadata": {},
   "outputs": [],
   "source": [
    "import pandas as pd\n",
    "import numpy as np\n",
    "from sklearn.model_selection import train_test_split, GridSearchCV\n",
    "from sklearn.feature_extraction.text import TfidfVectorizer, CountVectorizer\n",
    "from sklearn.linear_model import LogisticRegression\n",
    "from sklearn.metrics import accuracy_score\n",
    "from scipy.sparse import csr_matrix\n",
    "\n",
    "# Load the data\n",
    "train_df = pd.read_csv(\"train.csv\")\n",
    "test_df = pd.read_csv(\"test.csv\")\n",
    "\n",
    "# Split the training data into train and validation sets\n",
    "train_data, val_data = train_test_split(train_df, test_size=0.3, random_state=31)\n",
    "\n",
    "# Initialize the vectorizer\n",
    "vectorizer = TfidfVectorizer(max_features=8000, strip_accents='ascii', stop_words='english')\n",
    "\n",
    "# Fit the vectorizer to the training data\n",
    "X_train = vectorizer.fit_transform(train_data['review'])\n",
    "X_train = csr_matrix(X_train)\n",
    "X_val = vectorizer.transform(val_data['review'])\n",
    "X_val = csr_matrix(X_val)\n",
    "y_train = train_data['response']\n",
    "y_val = val_data['response']\n",
    "\n",
    "\n"
   ]
  },
  {
   "cell_type": "code",
   "execution_count": 2,
   "id": "7c8cf512",
   "metadata": {},
   "outputs": [
    {
     "name": "stdout",
     "output_type": "stream",
     "text": [
      "{'C': 1, 'penalty': 'l2'}\n",
      "LogisticRegression(C=1, random_state=35)\n",
      "Logistic Regression Accuracy on validation set: 0.8737\n"
     ]
    }
   ],
   "source": [
    "# Initialize the logistic regression model\n",
    "lr = LogisticRegression(random_state=35)\n",
    "\n",
    "# Define hyperparameters to search\n",
    "params = {'C': [1, 10, 100], 'penalty':['l2', None]}\n",
    "\n",
    "# Search for the best hyperparameters using GridSearchCV\n",
    "clf = GridSearchCV(lr, params, cv=5, n_jobs=-1)\n",
    "clf.fit(X_train, y_train)\n",
    "print(clf.best_params_)\n",
    "\n",
    "# Train the logistic regression model on the training data using the best hyperparameters\n",
    "best_lr = clf.best_estimator_\n",
    "print(best_lr)\n",
    "best_lr.fit(X_train, y_train)\n",
    "\n",
    "# Evaluate the logistic regression model on the validation set\n",
    "lr_acc = accuracy_score(y_val, best_lr.predict(X_val))\n",
    "print(f\"Logistic Regression Accuracy on validation set: {lr_acc:.4f}\")"
   ]
  },
  {
   "cell_type": "code",
   "execution_count": 3,
   "id": "2334fc68",
   "metadata": {},
   "outputs": [],
   "source": [
    "# Fit the vectorizer to the entire training set\n",
    "X_train_full = vectorizer.fit_transform(train_df['review'])\n",
    "y_train_full = train_df['response']\n",
    "\n",
    "# Train the logistic regression model on the entire training set\n",
    "lr.fit(X_train_full, y_train_full)\n",
    "\n",
    "# Make predictions on the test set\n",
    "test_df_transformed = vectorizer.transform(test_df['review'])\n",
    "y_test_pred = lr.predict(test_df_transformed)\n",
    "\n",
    "# Output the predictions to a .txt file for submission\n",
    "export_pred = pd.DataFrame(y_test_pred, columns=['response'])\n",
    "export_pred.to_csv('logistic_regression3_adam.txt', index=False, header=False)"
   ]
  },
  {
   "cell_type": "code",
   "execution_count": null,
   "id": "780b88f1",
   "metadata": {},
   "outputs": [],
   "source": []
  }
 ],
 "metadata": {
  "kernelspec": {
   "display_name": "Python 3 (ipykernel)",
   "language": "python",
   "name": "python3"
  },
  "language_info": {
   "codemirror_mode": {
    "name": "ipython",
    "version": 3
   },
   "file_extension": ".py",
   "mimetype": "text/x-python",
   "name": "python",
   "nbconvert_exporter": "python",
   "pygments_lexer": "ipython3",
   "version": "3.9.7"
  }
 },
 "nbformat": 4,
 "nbformat_minor": 5
}
