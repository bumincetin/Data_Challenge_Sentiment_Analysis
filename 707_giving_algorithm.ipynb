{
 "cells": [
  {
   "cell_type": "code",
   "execution_count": 1,
   "id": "1589e565",
   "metadata": {},
   "outputs": [
    {
     "name": "stdout",
     "output_type": "stream",
     "text": [
      "Logistic Regression Accuracy on validation set: 0.8374\n"
     ]
    },
    {
     "name": "stderr",
     "output_type": "stream",
     "text": [
      "C:\\Users\\bumin\\anaconda3\\lib\\site-packages\\sklearn\\linear_model\\_logistic.py:763: ConvergenceWarning: lbfgs failed to converge (status=1):\n",
      "STOP: TOTAL NO. of ITERATIONS REACHED LIMIT.\n",
      "\n",
      "Increase the number of iterations (max_iter) or scale the data as shown in:\n",
      "    https://scikit-learn.org/stable/modules/preprocessing.html\n",
      "Please also refer to the documentation for alternative solver options:\n",
      "    https://scikit-learn.org/stable/modules/linear_model.html#logistic-regression\n",
      "  n_iter_i = _check_optimize_result(\n"
     ]
    }
   ],
   "source": [
    "import pandas as pd\n",
    "import numpy as np\n",
    "from sklearn.model_selection import train_test_split\n",
    "from sklearn.feature_extraction.text import CountVectorizer\n",
    "from sklearn.linear_model import LogisticRegression\n",
    "from sklearn.metrics import accuracy_score\n",
    "\n",
    "# Load the data\n",
    "train_df = pd.read_csv(\"train.csv\")\n",
    "test_df = pd.read_csv(\"test.csv\")\n",
    "\n",
    "# Split the training data into train and validation sets\n",
    "train_data, val_data = train_test_split(train_df, test_size=0.2, random_state=31)\n",
    "\n",
    "# Initialize the vectorizer\n",
    "vectorizer = CountVectorizer(max_features=5000, strip_accents='ascii', stop_words='english')\n",
    "\n",
    "# Fit the vectorizer to the training data\n",
    "X_train = vectorizer.fit_transform(train_data['review'])\n",
    "X_val = vectorizer.transform(val_data['review'])\n",
    "y_train = train_data['response']\n",
    "y_val = val_data['response']\n",
    "\n",
    "# Initialize the logistic regression model\n",
    "lr = LogisticRegression(random_state=31)\n",
    "\n",
    "# Train the logistic regression model on the training data\n",
    "lr.fit(X_train, y_train)\n",
    "\n",
    "# Evaluate the logistic regression model on the validation set\n",
    "lr_acc = accuracy_score(y_val, lr.predict(X_val))\n",
    "print(f\"Logistic Regression Accuracy on validation set: {lr_acc:.4f}\")"
   ]
  },
  {
   "cell_type": "code",
   "execution_count": 2,
   "id": "5fa98a01",
   "metadata": {},
   "outputs": [
    {
     "name": "stderr",
     "output_type": "stream",
     "text": [
      "C:\\Users\\bumin\\anaconda3\\lib\\site-packages\\sklearn\\linear_model\\_logistic.py:763: ConvergenceWarning: lbfgs failed to converge (status=1):\n",
      "STOP: TOTAL NO. of ITERATIONS REACHED LIMIT.\n",
      "\n",
      "Increase the number of iterations (max_iter) or scale the data as shown in:\n",
      "    https://scikit-learn.org/stable/modules/preprocessing.html\n",
      "Please also refer to the documentation for alternative solver options:\n",
      "    https://scikit-learn.org/stable/modules/linear_model.html#logistic-regression\n",
      "  n_iter_i = _check_optimize_result(\n"
     ]
    }
   ],
   "source": [
    "# Fit the vectorizer to the entire training set\n",
    "X_train_full = vectorizer.fit_transform(train_df['review'])\n",
    "y_train_full = train_df['response']\n",
    "\n",
    "# Train the logistic regression model on the entire training set\n",
    "lr.fit(X_train_full, y_train_full)\n",
    "\n",
    "# Make predictions on the test set\n",
    "test_df_transformed = vectorizer.transform(test_df['review'])\n",
    "y_test_pred = lr.predict(test_df_transformed)\n",
    "\n",
    "# Output the predictions to a .txt file for submission\n",
    "export_pred = pd.DataFrame(y_test_pred, columns=['response'])\n",
    "export_pred.to_csv('logistic_regression2.txt', index=False, header=False)"
   ]
  }
 ],
 "metadata": {
  "kernelspec": {
   "display_name": "Python 3 (ipykernel)",
   "language": "python",
   "name": "python3"
  },
  "language_info": {
   "codemirror_mode": {
    "name": "ipython",
    "version": 3
   },
   "file_extension": ".py",
   "mimetype": "text/x-python",
   "name": "python",
   "nbconvert_exporter": "python",
   "pygments_lexer": "ipython3",
   "version": "3.9.7"
  }
 },
 "nbformat": 4,
 "nbformat_minor": 5
}
