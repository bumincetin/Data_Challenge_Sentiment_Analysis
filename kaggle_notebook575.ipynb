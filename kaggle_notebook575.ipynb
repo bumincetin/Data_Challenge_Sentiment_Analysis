{
 "cells": [
  {
   "cell_type": "code",
   "execution_count": 1,
   "id": "283ee275",
   "metadata": {},
   "outputs": [
    {
     "data": {
      "text/html": [
       "<div>\n",
       "<style scoped>\n",
       "    .dataframe tbody tr th:only-of-type {\n",
       "        vertical-align: middle;\n",
       "    }\n",
       "\n",
       "    .dataframe tbody tr th {\n",
       "        vertical-align: top;\n",
       "    }\n",
       "\n",
       "    .dataframe thead th {\n",
       "        text-align: right;\n",
       "    }\n",
       "</style>\n",
       "<table border=\"1\" class=\"dataframe\">\n",
       "  <thead>\n",
       "    <tr style=\"text-align: right;\">\n",
       "      <th></th>\n",
       "      <th>response</th>\n",
       "      <th>review</th>\n",
       "    </tr>\n",
       "  </thead>\n",
       "  <tbody>\n",
       "    <tr>\n",
       "      <th>0</th>\n",
       "      <td>1</td>\n",
       "      <td>A wonderful little production. &lt;br /&gt;&lt;br /&gt;The...</td>\n",
       "    </tr>\n",
       "    <tr>\n",
       "      <th>1</th>\n",
       "      <td>0</td>\n",
       "      <td>Basically there's a family where a little boy ...</td>\n",
       "    </tr>\n",
       "    <tr>\n",
       "      <th>2</th>\n",
       "      <td>0</td>\n",
       "      <td>This show was an amazing, fresh &amp; innovative i...</td>\n",
       "    </tr>\n",
       "    <tr>\n",
       "      <th>3</th>\n",
       "      <td>0</td>\n",
       "      <td>So im not a big fan of Boll's work but then ag...</td>\n",
       "    </tr>\n",
       "    <tr>\n",
       "      <th>4</th>\n",
       "      <td>0</td>\n",
       "      <td>Kind of drawn in by the erotic scenes, only to...</td>\n",
       "    </tr>\n",
       "  </tbody>\n",
       "</table>\n",
       "</div>"
      ],
      "text/plain": [
       "   response                                             review\n",
       "0         1  A wonderful little production. <br /><br />The...\n",
       "1         0  Basically there's a family where a little boy ...\n",
       "2         0  This show was an amazing, fresh & innovative i...\n",
       "3         0  So im not a big fan of Boll's work but then ag...\n",
       "4         0  Kind of drawn in by the erotic scenes, only to..."
      ]
     },
     "execution_count": 1,
     "metadata": {},
     "output_type": "execute_result"
    }
   ],
   "source": [
    "import pandas as pd\n",
    "import numpy as np\n",
    "from sklearn.model_selection import cross_val_score, RandomizedSearchCV\n",
    "from sklearn.feature_extraction.text import CountVectorizer, TfidfTransformer\n",
    "from sklearn.linear_model import LogisticRegression\n",
    "from sklearn.pipeline import Pipeline\n",
    "import re\n",
    "from nltk.stem import WordNetLemmatizer\n",
    "from nltk.corpus import stopwords\n",
    "import tensorflow as tf\n",
    "from sklearn.preprocessing import LabelEncoder\n",
    "\n",
    "le = LabelEncoder()\n",
    "\n",
    "# Load the data\n",
    "train_df = pd.read_csv(\"train.csv\")\n",
    "test_df = pd.read_csv(\"test.csv\")\n",
    "\n",
    "train_df[\"response\"] = le.fit_transform(train_df[\"response\"])\n",
    "train_df.head()\n",
    "\n"
   ]
  },
  {
   "cell_type": "code",
   "execution_count": 2,
   "id": "f31c84b1",
   "metadata": {},
   "outputs": [
    {
     "name": "stderr",
     "output_type": "stream",
     "text": [
      "C:\\Users\\bumin\\AppData\\Local\\Temp/ipykernel_12408/3819776851.py:3: FutureWarning: The default value of regex will change from True to False in a future version.\n",
      "  df[content_field] = df[content_field].str.replace(r\"http\\S+\", \"\")\n",
      "C:\\Users\\bumin\\AppData\\Local\\Temp/ipykernel_12408/3819776851.py:5: FutureWarning: The default value of regex will change from True to False in a future version.\n",
      "  df[content_field] = df[content_field].str.replace(r\"@\\S+\", \"\")\n",
      "C:\\Users\\bumin\\AppData\\Local\\Temp/ipykernel_12408/3819776851.py:6: FutureWarning: The default value of regex will change from True to False in a future version.\n",
      "  df[content_field] = df[content_field].str.replace(r\"[^A-Za-z0-9(),!?@\\'\\`\\\"\\_\\n]\", \" \")\n"
     ]
    },
    {
     "data": {
      "text/html": [
       "<div>\n",
       "<style scoped>\n",
       "    .dataframe tbody tr th:only-of-type {\n",
       "        vertical-align: middle;\n",
       "    }\n",
       "\n",
       "    .dataframe tbody tr th {\n",
       "        vertical-align: top;\n",
       "    }\n",
       "\n",
       "    .dataframe thead th {\n",
       "        text-align: right;\n",
       "    }\n",
       "</style>\n",
       "<table border=\"1\" class=\"dataframe\">\n",
       "  <thead>\n",
       "    <tr style=\"text-align: right;\">\n",
       "      <th></th>\n",
       "      <th>response</th>\n",
       "      <th>review</th>\n",
       "    </tr>\n",
       "  </thead>\n",
       "  <tbody>\n",
       "    <tr>\n",
       "      <th>0</th>\n",
       "      <td>1</td>\n",
       "      <td>a wonderful little production   br    br   the...</td>\n",
       "    </tr>\n",
       "    <tr>\n",
       "      <th>1</th>\n",
       "      <td>0</td>\n",
       "      <td>basically there's a family where a little boy ...</td>\n",
       "    </tr>\n",
       "    <tr>\n",
       "      <th>2</th>\n",
       "      <td>0</td>\n",
       "      <td>this show was an amazing, fresh   innovative i...</td>\n",
       "    </tr>\n",
       "    <tr>\n",
       "      <th>3</th>\n",
       "      <td>0</td>\n",
       "      <td>so im not a big fan of boll's work but then ag...</td>\n",
       "    </tr>\n",
       "    <tr>\n",
       "      <th>4</th>\n",
       "      <td>0</td>\n",
       "      <td>kind of drawn in by the erotic scenes, only to...</td>\n",
       "    </tr>\n",
       "    <tr>\n",
       "      <th>...</th>\n",
       "      <td>...</td>\n",
       "      <td>...</td>\n",
       "    </tr>\n",
       "    <tr>\n",
       "      <th>14906</th>\n",
       "      <td>0</td>\n",
       "      <td>robert colomb has two full time jobs  he's kno...</td>\n",
       "    </tr>\n",
       "    <tr>\n",
       "      <th>14907</th>\n",
       "      <td>0</td>\n",
       "      <td>this is your typical junk comedy  br    br   t...</td>\n",
       "    </tr>\n",
       "    <tr>\n",
       "      <th>14908</th>\n",
       "      <td>1</td>\n",
       "      <td>i thought this movie did a down right good job...</td>\n",
       "    </tr>\n",
       "    <tr>\n",
       "      <th>14909</th>\n",
       "      <td>0</td>\n",
       "      <td>bad plot, bad dialogue, bad acting, idiotic di...</td>\n",
       "    </tr>\n",
       "    <tr>\n",
       "      <th>14910</th>\n",
       "      <td>0</td>\n",
       "      <td>no one expects the star trek movies to be high...</td>\n",
       "    </tr>\n",
       "  </tbody>\n",
       "</table>\n",
       "<p>14911 rows × 2 columns</p>\n",
       "</div>"
      ],
      "text/plain": [
       "       response                                             review\n",
       "0             1  a wonderful little production   br    br   the...\n",
       "1             0  basically there's a family where a little boy ...\n",
       "2             0  this show was an amazing, fresh   innovative i...\n",
       "3             0  so im not a big fan of boll's work but then ag...\n",
       "4             0  kind of drawn in by the erotic scenes, only to...\n",
       "...         ...                                                ...\n",
       "14906         0  robert colomb has two full time jobs  he's kno...\n",
       "14907         0  this is your typical junk comedy  br    br   t...\n",
       "14908         1  i thought this movie did a down right good job...\n",
       "14909         0  bad plot, bad dialogue, bad acting, idiotic di...\n",
       "14910         0  no one expects the star trek movies to be high...\n",
       "\n",
       "[14911 rows x 2 columns]"
      ]
     },
     "execution_count": 2,
     "metadata": {},
     "output_type": "execute_result"
    }
   ],
   "source": [
    "# creating function for cleaning data\n",
    "def standardize_text(df, content_field):\n",
    "    df[content_field] = df[content_field].str.replace(r\"http\\S+\", \"\")\n",
    "    df[content_field] = df[content_field].str.replace(r\"http\", \"\")\n",
    "    df[content_field] = df[content_field].str.replace(r\"@\\S+\", \"\")\n",
    "    df[content_field] = df[content_field].str.replace(r\"[^A-Za-z0-9(),!?@\\'\\`\\\"\\_\\n]\", \" \")\n",
    "    df[content_field] = df[content_field].str.replace(r\"@\", \"at\")\n",
    "    df[content_field] = df[content_field].str.lower()\n",
    "    return df\n",
    "standardize_text(train_df,\"review\")\n"
   ]
  },
  {
   "cell_type": "code",
   "execution_count": 3,
   "id": "880ae1fb",
   "metadata": {},
   "outputs": [],
   "source": [
    "def remove_abb(review):\n",
    "    replacements = {\n",
    "       \"ain't\": \"am not\",\n",
    "        \"aren't\": \"are not\",\n",
    "        \"can't\": \"cannot\",\n",
    "        \"could've\": \"could have\",\n",
    "        \"couldn't\": \"could not\",\n",
    "        \"didn't\": \"did not\",\n",
    "        \"doesn't\": \"does not\",\n",
    "        \"don't\": \"do not\",\n",
    "        \"gonna\": \"going to\",\n",
    "        \"hadn't\": \"had not\",\n",
    "        \"hasn't\": \"has not\",\n",
    "        \"haven't\": \"have not\",\n",
    "        \"he'd\": \"he would\",\n",
    "        \"he'll\": \"he will\",\n",
    "        \"he's\": \"he is\",\n",
    "        \"how'd\": \"how did\",\n",
    "        \"how'll\": \"how will\",\n",
    "        \"how's\": \"how is\",\n",
    "        \"I'd\": \"I would\",\n",
    "        \"I'll\": \"I will\",\n",
    "        \"I'm\": \"I am\",\n",
    "        \"I've\": \"I have\",\n",
    "        \"isn't\": \"is not\",\n",
    "        \"it'd\": \"it would\",\n",
    "        \"it'll\": \"it will\",\n",
    "        \"it's\": \"it is\",\n",
    "        \"Its\" : \"It is\",\n",
    "        \"let's\": \"let us\",\n",
    "        \"mightn't\": \"might not\",\n",
    "        \"mustn't\": \"must not\",\n",
    "        \"shan't\": \"shall not\",\n",
    "        \"she'd\": \"she would\",\n",
    "        \"she'll\": \"she will\",\n",
    "        \"she's\": \"she is\",\n",
    "        \"should've\": \"should have\",\n",
    "        \"shouldn't\": \"should not\",\n",
    "        \"that's\": \"that is\",\n",
    "        \"there's\": \"there is\",\n",
    "        \"they'd\": \"they would\",\n",
    "        \"wanna\" : \"want to\",\n",
    "        \"We're\" : \"We are\"\n",
    "    }\n",
    "    for key, value in replacements.items():\n",
    "        review = re.sub(r\"{}\".format(key), value, review)\n",
    "    return review\n",
    "\n",
    "train_df[\"review\"] = train_df[\"review\"].apply(remove_abb)\n"
   ]
  },
  {
   "cell_type": "code",
   "execution_count": 4,
   "id": "10460c64",
   "metadata": {},
   "outputs": [],
   "source": [
    "from nltk.stem import SnowballStemmer"
   ]
  },
  {
   "cell_type": "code",
   "execution_count": 5,
   "id": "2fd59f74",
   "metadata": {},
   "outputs": [],
   "source": [
    "lemmatizer=WordNetLemmatizer()\n",
    "corpus = []\n",
    "for i in range(0,len(train_df)):\n",
    "    review = re.sub('[^a-zA-Z]', ' ', train_df['review'][i])\n",
    "    review = review.split()\n",
    "    review=[word for word in review if not word in set(stopwords.words('english'))]\n",
    "    review = [SnowballStemmer(\"english\").stem(words) for words in review]\n",
    "    review = [lemmatizer.lemmatize(word) for word in review]\n",
    "    review=' '.join(review)\n",
    "    corpus.append(review)"
   ]
  },
  {
   "cell_type": "code",
   "execution_count": 6,
   "id": "07af1bf1",
   "metadata": {},
   "outputs": [],
   "source": [
    "from sklearn.feature_extraction.text import TfidfVectorizer\n"
   ]
  },
  {
   "cell_type": "code",
   "execution_count": 7,
   "id": "69e29fc9",
   "metadata": {},
   "outputs": [],
   "source": [
    "tfidf = TfidfVectorizer(ngram_range=(1, 3))\n",
    "X = tfidf.fit_transform(corpus)\n",
    "y = train_df[\"response\"]"
   ]
  },
  {
   "cell_type": "code",
   "execution_count": 8,
   "id": "abfef80f",
   "metadata": {},
   "outputs": [],
   "source": [
    "from sklearn.model_selection import train_test_split\n",
    "\n",
    "X_train, X_test, y_train, y_test = train_test_split(X, y, test_size=0.2, random_state=0)\n"
   ]
  },
  {
   "cell_type": "code",
   "execution_count": 9,
   "id": "84c0b6bc",
   "metadata": {},
   "outputs": [],
   "source": [
    "from sklearn.model_selection import RandomizedSearchCV\n",
    "from sklearn.linear_model import LogisticRegression\n",
    "from scipy.stats import loguniform\n",
    "\n",
    "# Define the parameter space to search over\n",
    "param_distributions = {\n",
    "    'C': loguniform(1, 10),\n",
    "    'tol': loguniform(1e-5, 1e-3),\n",
    "}\n",
    "\n",
    "classifier = LogisticRegression()\n",
    "\n",
    "random_lr = RandomizedSearchCV(\n",
    "    classifier, \n",
    "    param_distributions=param_distributions, \n",
    "    n_iter=50,\n",
    "    cv=5, \n",
    "    verbose=1, \n",
    "    n_jobs=-1,\n",
    "    random_state=42,\n",
    "    error_score='raise'\n",
    ")\n"
   ]
  },
  {
   "cell_type": "code",
   "execution_count": null,
   "id": "1a1c71c8",
   "metadata": {},
   "outputs": [
    {
     "name": "stdout",
     "output_type": "stream",
     "text": [
      "Fitting 5 folds for each of 50 candidates, totalling 250 fits\n"
     ]
    }
   ],
   "source": [
    "random_lr.fit(X_train, y_train)\n"
   ]
  },
  {
   "cell_type": "code",
   "execution_count": null,
   "id": "2332e613",
   "metadata": {},
   "outputs": [],
   "source": [
    "# Get the best model\n",
    "best_model = random_lr.best_estimator_\n",
    "print(best_model)\n",
    "# Make predictions on the test data using the best model\n",
    "y_pred = best_model.predict(X_test)"
   ]
  },
  {
   "cell_type": "code",
   "execution_count": null,
   "id": "6c759cfd",
   "metadata": {},
   "outputs": [],
   "source": [
    "from sklearn.metrics import confusion_matrix, classification_report, accuracy_score\n",
    "import seaborn as sns\n",
    "\n",
    "acc = accuracy_score(y_pred, y_test)\n",
    "report = classification_report(y_pred, y_test)\n",
    "cm = confusion_matrix(y_pred,y_test)\n",
    "sns.heatmap(cm, annot=True)\n",
    "print(report)\n",
    "print(\"Accuracy Score of SVC:\", acc*100,\"%\")"
   ]
  },
  {
   "cell_type": "code",
   "execution_count": null,
   "id": "d486f2dd",
   "metadata": {},
   "outputs": [],
   "source": [
    "# Make predictions on the test set\n",
    "test_df_transformed = tfidf.transform(test_df['review'])\n",
    "y_test_pred = best_model.predict(test_df_transformed)"
   ]
  },
  {
   "cell_type": "code",
   "execution_count": null,
   "id": "ed37f13e",
   "metadata": {},
   "outputs": [],
   "source": [
    "for i in range(len(y_test_pred)):\n",
    "    if y_test_pred[i] == 0:\n",
    "        y_test_pred[i] = 1\n",
    "    else:\n",
    "        y_test_pred[i] = 2"
   ]
  },
  {
   "cell_type": "code",
   "execution_count": null,
   "id": "cb6dfe50",
   "metadata": {},
   "outputs": [],
   "source": [
    "# Output the predictions to a .txt file for submission\n",
    "export_pred = pd.DataFrame(y_test_pred, columns=['response'])\n",
    "#export_pred.to_csv('nltk_prediction_lr_rs.txt', index=False, header=False)"
   ]
  }
 ],
 "metadata": {
  "kernelspec": {
   "display_name": "Python 3 (ipykernel)",
   "language": "python",
   "name": "python3"
  },
  "language_info": {
   "codemirror_mode": {
    "name": "ipython",
    "version": 3
   },
   "file_extension": ".py",
   "mimetype": "text/x-python",
   "name": "python",
   "nbconvert_exporter": "python",
   "pygments_lexer": "ipython3",
   "version": "3.9.7"
  }
 },
 "nbformat": 4,
 "nbformat_minor": 5
}
