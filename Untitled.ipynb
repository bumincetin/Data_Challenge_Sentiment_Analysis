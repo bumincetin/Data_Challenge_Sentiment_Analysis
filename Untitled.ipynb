{
 "cells": [
  {
   "cell_type": "code",
   "execution_count": 12,
   "id": "3a6a10d8",
   "metadata": {},
   "outputs": [],
   "source": [
    "import pandas as pd\n",
    "import numpy as np\n",
    "from sklearn.model_selection import cross_val_score, RandomizedSearchCV\n",
    "from sklearn.feature_extraction.text import TfidfVectorizer\n",
    "from sklearn.linear_model import LogisticRegression\n",
    "from sklearn.pipeline import Pipeline\n",
    "from scipy.sparse import csr_matrix\n",
    "from sklearn.preprocessing import StandardScaler\n",
    "\n",
    "# Load the data\n",
    "train_df = pd.read_csv(\"train.csv\")\n",
    "test_df = pd.read_csv(\"test.csv\")\n",
    "\n",
    "# Initialize the vectorizer and the logistic regression model\n",
    "vectorizer = TfidfVectorizer(max_features=10000, strip_accents='ascii', stop_words='english')\n"
   ]
  },
  {
   "cell_type": "code",
   "execution_count": 14,
   "id": "2363c628",
   "metadata": {},
   "outputs": [
    {
     "name": "stderr",
     "output_type": "stream",
     "text": [
      "C:\\Users\\bumin\\anaconda3\\lib\\site-packages\\sklearn\\linear_model\\_sag.py:350: ConvergenceWarning: The max_iter was reached which means the coef_ did not converge\n",
      "  warnings.warn(\n"
     ]
    },
    {
     "name": "stdout",
     "output_type": "stream",
     "text": [
      "{'vectorizer__max_features': 10000, 'lr__solver': 'saga', 'lr__penalty': 'l1', 'lr__max_iter': 100, 'lr__C': 0.1}\n"
     ]
    },
    {
     "name": "stderr",
     "output_type": "stream",
     "text": [
      "C:\\Users\\bumin\\anaconda3\\lib\\site-packages\\sklearn\\linear_model\\_sag.py:350: ConvergenceWarning: The max_iter was reached which means the coef_ did not converge\n",
      "  warnings.warn(\n",
      "C:\\Users\\bumin\\anaconda3\\lib\\site-packages\\sklearn\\linear_model\\_sag.py:350: ConvergenceWarning: The max_iter was reached which means the coef_ did not converge\n",
      "  warnings.warn(\n",
      "C:\\Users\\bumin\\anaconda3\\lib\\site-packages\\sklearn\\linear_model\\_sag.py:350: ConvergenceWarning: The max_iter was reached which means the coef_ did not converge\n",
      "  warnings.warn(\n",
      "C:\\Users\\bumin\\anaconda3\\lib\\site-packages\\sklearn\\linear_model\\_sag.py:350: ConvergenceWarning: The max_iter was reached which means the coef_ did not converge\n",
      "  warnings.warn(\n",
      "C:\\Users\\bumin\\anaconda3\\lib\\site-packages\\sklearn\\linear_model\\_sag.py:350: ConvergenceWarning: The max_iter was reached which means the coef_ did not converge\n",
      "  warnings.warn(\n",
      "C:\\Users\\bumin\\anaconda3\\lib\\site-packages\\sklearn\\linear_model\\_sag.py:350: ConvergenceWarning: The max_iter was reached which means the coef_ did not converge\n",
      "  warnings.warn(\n",
      "C:\\Users\\bumin\\anaconda3\\lib\\site-packages\\sklearn\\linear_model\\_sag.py:350: ConvergenceWarning: The max_iter was reached which means the coef_ did not converge\n",
      "  warnings.warn(\n",
      "C:\\Users\\bumin\\anaconda3\\lib\\site-packages\\sklearn\\linear_model\\_sag.py:350: ConvergenceWarning: The max_iter was reached which means the coef_ did not converge\n",
      "  warnings.warn(\n",
      "C:\\Users\\bumin\\anaconda3\\lib\\site-packages\\sklearn\\linear_model\\_sag.py:350: ConvergenceWarning: The max_iter was reached which means the coef_ did not converge\n",
      "  warnings.warn(\n",
      "C:\\Users\\bumin\\anaconda3\\lib\\site-packages\\sklearn\\linear_model\\_sag.py:350: ConvergenceWarning: The max_iter was reached which means the coef_ did not converge\n",
      "  warnings.warn(\n"
     ]
    },
    {
     "name": "stdout",
     "output_type": "stream",
     "text": [
      "Cross-validation Accuracy: 0.8600 +/- 0.0066\n"
     ]
    }
   ],
   "source": [
    "lr = LogisticRegression(random_state=35, max_iter=1000)\n",
    "\n",
    "# Define the pipeline\n",
    "pipe = Pipeline([('vectorizer', vectorizer), ('scaler', StandardScaler(with_mean=False)), ('lr', lr)])\n",
    "\n",
    "# Define the hyperparameters to search over\n",
    "params = {\n",
    "    'vectorizer__max_features': [5000, 10000, 15000],\n",
    "    'lr__solver': ['liblinear', 'saga'],\n",
    "    'lr__penalty': ['l1', 'l2'],\n",
    "    'lr__max_iter': [100, 200, 300],\n",
    "    'lr__C': [0.1, 1, 10]\n",
    "}\n",
    "\n",
    "# Use RandomizedSearchCV to search for the best hyperparameters\n",
    "search = RandomizedSearchCV(pipe, params, cv=5, n_iter=10, n_jobs=-1, random_state=42)\n",
    "search.fit(train_df['review'], train_df['response'])\n",
    "\n",
    "# Print the best hyperparameters\n",
    "print(search.best_params_)\n",
    "\n",
    "# Evaluate the model using cross-validation\n",
    "scores = cross_val_score(search.best_estimator_, train_df['review'], train_df['response'], cv=10)\n",
    "print(f\"Cross-validation Accuracy: {np.mean(scores):.4f} +/- {np.std(scores):.4f}\")"
   ]
  },
  {
   "cell_type": "code",
   "execution_count": 15,
   "id": "3724bb74",
   "metadata": {},
   "outputs": [
    {
     "name": "stderr",
     "output_type": "stream",
     "text": [
      "C:\\Users\\bumin\\anaconda3\\lib\\site-packages\\sklearn\\linear_model\\_sag.py:350: ConvergenceWarning: The max_iter was reached which means the coef_ did not converge\n",
      "  warnings.warn(\n"
     ]
    }
   ],
   "source": [
    "# Fit the model on the entire training set\n",
    "search.best_estimator_.fit(train_df['review'], train_df['response'])\n",
    "\n",
    "# Make predictions on the test set\n",
    "test_df_transformed = csr_matrix(search.best_estimator_['vectorizer'].transform(test_df['review']))\n",
    "y_test_pred = search.best_estimator_['lr'].predict(test_df_transformed)\n",
    "\n"
   ]
  },
  {
   "cell_type": "code",
   "execution_count": 16,
   "id": "c85f947e",
   "metadata": {},
   "outputs": [],
   "source": [
    "# Output the predictions to a .txt file for submission\n",
    "export_pred = pd.DataFrame(y_test_pred, columns=['response'])\n"
   ]
  },
  {
   "cell_type": "code",
   "execution_count": 17,
   "id": "bf6675c2",
   "metadata": {},
   "outputs": [],
   "source": [
    "export_pred.to_csv('logistic_regression5_adam.txt', index=False, header=False)"
   ]
  },
  {
   "cell_type": "code",
   "execution_count": null,
   "id": "a0ba38f3",
   "metadata": {},
   "outputs": [],
   "source": []
  },
  {
   "cell_type": "code",
   "execution_count": null,
   "id": "9d0e0467",
   "metadata": {},
   "outputs": [],
   "source": []
  },
  {
   "cell_type": "code",
   "execution_count": null,
   "id": "bca89e1e",
   "metadata": {},
   "outputs": [],
   "source": []
  },
  {
   "cell_type": "code",
   "execution_count": null,
   "id": "498f3318",
   "metadata": {},
   "outputs": [],
   "source": []
  }
 ],
 "metadata": {
  "kernelspec": {
   "display_name": "Python 3 (ipykernel)",
   "language": "python",
   "name": "python3"
  },
  "language_info": {
   "codemirror_mode": {
    "name": "ipython",
    "version": 3
   },
   "file_extension": ".py",
   "mimetype": "text/x-python",
   "name": "python",
   "nbconvert_exporter": "python",
   "pygments_lexer": "ipython3",
   "version": "3.9.7"
  }
 },
 "nbformat": 4,
 "nbformat_minor": 5
}
