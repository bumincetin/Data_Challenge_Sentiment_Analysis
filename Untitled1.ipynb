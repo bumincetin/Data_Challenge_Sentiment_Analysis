{
 "cells": [
  {
   "cell_type": "code",
   "execution_count": 1,
   "id": "0f4115b5",
   "metadata": {},
   "outputs": [
    {
     "name": "stdout",
     "output_type": "stream",
     "text": [
      "{'vectorizer__ngram_range': (1, 2), 'vectorizer__min_df': 1, 'vectorizer__max_features': 10000, 'lr__solver': 'saga', 'lr__penalty': 'l2', 'lr__max_iter': 100, 'lr__C': 1}\n",
      "Cross-validation Accuracy: 0.8763 +/- 0.0105\n"
     ]
    }
   ],
   "source": [
    "import pandas as pd\n",
    "import numpy as np\n",
    "from sklearn.model_selection import cross_val_score, RandomizedSearchCV\n",
    "from sklearn.feature_extraction.text import CountVectorizer, TfidfTransformer\n",
    "from sklearn.linear_model import LogisticRegression\n",
    "from sklearn.pipeline import Pipeline\n",
    "\n",
    "# Load the data\n",
    "train_df = pd.read_csv(\"train.csv\")\n",
    "test_df = pd.read_csv(\"test.csv\")\n",
    "\n",
    "# Initialize the vectorizer, transformer and the logistic regression model\n",
    "vectorizer = CountVectorizer(strip_accents='ascii', stop_words='english')\n",
    "tfidf = TfidfTransformer()\n",
    "lr = LogisticRegression(random_state=35, max_iter=1000)\n",
    "\n",
    "# Define the pipeline\n",
    "pipe = Pipeline([('vectorizer', vectorizer), ('tfidf', tfidf), ('lr', lr)])\n",
    "\n",
    "# Define the hyperparameters to search over\n",
    "params = {\n",
    "    'vectorizer__max_features': [5000, 10000, 15000],\n",
    "    'vectorizer__ngram_range': [(1, 1), (1, 2)],\n",
    "    'vectorizer__min_df': [1, 2, 3],\n",
    "    'lr__solver': ['liblinear', 'saga'],\n",
    "    'lr__penalty': ['l1', 'l2'],\n",
    "    'lr__max_iter': [100, 200, 300],\n",
    "    'lr__C': [0.1, 1, 10]\n",
    "}\n",
    "\n",
    "# Use RandomizedSearchCV to search for the best hyperparameters\n",
    "search = RandomizedSearchCV(pipe, params, cv=5, n_iter=20, n_jobs=-1, random_state=42)\n",
    "search.fit(train_df['review'], train_df['response'])\n",
    "\n",
    "# Print the best hyperparameters\n",
    "print(search.best_params_)\n",
    "\n",
    "# Evaluate the model using cross-validation\n",
    "scores = cross_val_score(search.best_estimator_, train_df['review'], train_df['response'], cv=10)\n",
    "print(f\"Cross-validation Accuracy: {np.mean(scores):.4f} +/- {np.std(scores):.4f}\")\n",
    "\n",
    "# Fit the model on the entire training set\n",
    "search.best_estimator_.fit(train_df['review'], train_df['response'])\n",
    "\n",
    "# Make predictions on the test set\n",
    "y_test_pred = search.best_estimator_.predict(test_df['review'])\n",
    "\n",
    "# Output the predictions to a .txt file for submission\n",
    "export_pred = pd.DataFrame(y_test_pred, columns=['response'])\n",
    "\n",
    "export_pred.to_csv('logistic_regression_improved.txt', index=False, header=False)"
   ]
  },
  {
   "cell_type": "code",
   "execution_count": null,
   "id": "c89bcb05",
   "metadata": {},
   "outputs": [],
   "source": []
  }
 ],
 "metadata": {
  "kernelspec": {
   "display_name": "Python 3 (ipykernel)",
   "language": "python",
   "name": "python3"
  },
  "language_info": {
   "codemirror_mode": {
    "name": "ipython",
    "version": 3
   },
   "file_extension": ".py",
   "mimetype": "text/x-python",
   "name": "python",
   "nbconvert_exporter": "python",
   "pygments_lexer": "ipython3",
   "version": "3.9.7"
  }
 },
 "nbformat": 4,
 "nbformat_minor": 5
}
